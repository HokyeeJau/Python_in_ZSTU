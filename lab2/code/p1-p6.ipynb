{
 "cells": [
  {
   "cell_type": "markdown",
   "metadata": {},
   "source": [
    "# Lab 2 "
   ]
  },
  {
   "attachments": {},
   "cell_type": "markdown",
   "metadata": {},
   "source": [
    "## 2.1\tWrite a program to get input from the keyboard, calculate the Mean, Standard Deviation and Median by using list to save the data."
   ]
  },
  {
   "cell_type": "code",
   "execution_count": null,
   "metadata": {},
   "outputs": [],
   "source": [
    "import numpy as np \n",
    "\n",
    "# import numpy as np\n",
    "\n",
    "def check_num(n):\n",
    "    try:\n",
    "        float(n)\n",
    "        return True\n",
    "    except:\n",
    "        return False \n",
    "\n",
    "if_number = True\n",
    "number_list = []\n",
    "\n",
    "print(\"Input starts...\")\n",
    "while if_number:\n",
    "    num = input(\"Number: \")\n",
    "    if_number = check_num(num)\n",
    "    if if_number:\n",
    "        number_list.append(float(num))\n",
    "\n",
    "number_arr = np.array(number_list)\n",
    "print(\"----------Analysis Report----------------\")\n",
    "print(\"Mean: \"+'%-10.5s' % str(np.mean(number_arr)))\n",
    "print(\"Std:  \"+'%-10.5s' % str(np.std(number_arr)))\n",
    "print(\"Std:  \"+'%-10s' % str(np.median(number_arr)))"
   ]
  },
  {
   "cell_type": "markdown",
   "metadata": {},
   "source": [
    "## 2.2 Count the word frequency (top 10) by using set: Read from the file hamlet.txt and count the word frequency."
   ]
  },
  {
   "cell_type": "code",
   "execution_count": null,
   "metadata": {},
   "outputs": [],
   "source": [
    "# A package dealing with tokens mostly used in NLP\n",
    "!pip install nltk\n",
    "import nltk\n",
    "nltk.download('punkt')\n",
    "\n",
    "# Import text file\n",
    "file_ad = \"hamlet.txt\"\n",
    "with open(file_ad, \"r+\") as f:\n",
    "    hamlet = f.readlines()  \n",
    "print(type(hamlet))\n",
    "\n",
    "# Tokenisation\n",
    "tokenized_corpus = []\n",
    "for sent in hamlet:\n",
    "    tokens = []\n",
    "    for token in sent.split(\" \"):\n",
    "        tokens.append(token.lower())\n",
    "    tokenized_corpus.append(tokens)\n",
    "\n",
    "# Generate vocabulary set && Record the appearance\n",
    "vocab_dict = {}\n",
    "for sent in tokenized_corpus:\n",
    "    for token in sent:\n",
    "        if token in vocab_dict:\n",
    "            vocab_dict[token] = vocab_dict[token] + 1\n",
    "        else:\n",
    "            vocab_dict[token] = 1\n",
    "vocab_set = vocab_dict.keys()\n",
    "\n",
    "sorted_vocab_dict = dict(sorted(vocab_dict.items(), key = lambda kv:(kv[1], kv[0]), reverse=True))\n",
    "\n",
    "i = 0\n",
    "for k,v in sorted_vocab_dict.items():\n",
    "    i = i + 1\n",
    "    if i == 11:\n",
    "        break\n",
    "    print(\"{}. {:<10}{:>5}\".format(i, k, v))"
   ]
  },
  {
   "cell_type": "markdown",
   "metadata": {},
   "source": [
    "## 2.3 Random password generation by using list: generate ten passwords randomly illustrated as follows that comprised of eight characters, which can only be 26 letters in lower case or 10 digits from 0 to 9."
   ]
  },
  {
   "cell_type": "code",
   "execution_count": null,
   "metadata": {},
   "outputs": [],
   "source": [
    "import random\n",
    "import string\n",
    "\n",
    "\n",
    "randint = lambda x: random.randint(0, x)\n",
    "alphabet = list(string.ascii_letters) \n",
    "number = list(range(0, 10))\n",
    "\n",
    "def generate_random_pwd():\n",
    "    random.shuffle(alphabet)\n",
    "    random.shuffle(number)\n",
    "    \n",
    "    password = [0] * 10\n",
    "    for i in range(0, 10):\n",
    "        n = randint(len(alphabet)-1)\n",
    "        password[i] = alphabet[n]\n",
    "\n",
    "    password[randint(9)] = str(number[randint(9)])\n",
    "    password[randint(9)] = str(number[randint(9)])\n",
    "    return \"\".join(password)\n",
    "\n",
    "for i in range(1, 11):\n",
    "    print(\"Password \"+str(i)+\" :\"+generate_random_pwd())"
   ]
  },
  {
   "cell_type": "markdown",
   "metadata": {},
   "source": [
    "## 2.4 To determin the duplicate element by using list and set separately and analyize which one is better."
   ]
  },
  {
   "cell_type": "code",
   "execution_count": 9,
   "metadata": {},
   "outputs": [
    {
     "name": "stdout",
     "output_type": "stream",
     "text": [
      "Yes\n",
      "List running time: 0.00034000000000000696 Seconds\n",
      "Yes\n",
      "Set running time: 0.00021000000000004349 Seconds\n"
     ]
    },
    {
     "name": "stderr",
     "output_type": "stream",
     "text": [
      "/opt/anaconda3/lib/python3.7/site-packages/ipykernel_launcher.py:3: DeprecationWarning: time.clock has been deprecated in Python 3.3 and will be removed from Python 3.8: use time.perf_counter or time.process_time instead\n",
      "  This is separate from the ipykernel package so we can avoid doing imports until\n",
      "/opt/anaconda3/lib/python3.7/site-packages/ipykernel_launcher.py:9: DeprecationWarning: time.clock has been deprecated in Python 3.3 and will be removed from Python 3.8: use time.perf_counter or time.process_time instead\n",
      "  if __name__ == '__main__':\n",
      "/opt/anaconda3/lib/python3.7/site-packages/ipykernel_launcher.py:12: DeprecationWarning: time.clock has been deprecated in Python 3.3 and will be removed from Python 3.8: use time.perf_counter or time.process_time instead\n",
      "  if sys.path[0] == '':\n",
      "/opt/anaconda3/lib/python3.7/site-packages/ipykernel_launcher.py:18: DeprecationWarning: time.clock has been deprecated in Python 3.3 and will be removed from Python 3.8: use time.perf_counter or time.process_time instead\n"
     ]
    }
   ],
   "source": [
    "import time\n",
    "\n",
    "list_start =time.clock()\n",
    "arr = [1,2,3,4,5,6,7]\n",
    "if 1 in arr:\n",
    "    print(\"Yes\")\n",
    "else:\n",
    "    print(\"No\")\n",
    "list_end = time.clock()\n",
    "print('List running time: %s Seconds'%(list_end-list_start))\n",
    "\n",
    "set_start =time.clock()\n",
    "s = set([1,2,3,4,5,6,7])\n",
    "if 1 in s:\n",
    "    print(\"Yes\")\n",
    "else:\n",
    "    print(\"No\")\n",
    "set_end = time.clock()\n",
    "print('Set running time: %s Seconds'%(set_end-set_start))\n"
   ]
  },
  {
   "cell_type": "markdown",
   "metadata": {},
   "source": [
    "## 2.5 By importing jieba library to realize the Chinese word frequency counting which read from the 三国演义.txt."
   ]
  },
  {
   "cell_type": "code",
   "execution_count": null,
   "metadata": {},
   "outputs": [],
   "source": [
    "# !pip install jieba\n",
    "import jieba\n",
    "import jieba.analyse\n",
    "import re\n",
    "from collections import Counter\n",
    "\n",
    "file = '/三国演义.txt'\n",
    "txt = open(file, 'r', encoding='utf-8').read()\n",
    "txt = re.sub(r'\\s+', r' ', txt)\n",
    "txt = re.sub(r'\\.+', r' ', txt)\n",
    "tags = jieba.analyse.extract_tags(txt, topK=100)\n",
    "words = jieba.cut(txt)\n",
    "counter = Counter()\n",
    "for word in words: \n",
    "    if word in tags:\n",
    "        counter[word] += 1\n",
    "result = counter.most_common()\n",
    "\n",
    "for i in range(1, 21):\n",
    "    key, value = result[i]\n",
    "    print('{:<3}{:<6}{:>5}'.format(i, key, value))\n"
   ]
  },
  {
   "attachments": {},
   "cell_type": "markdown",
   "metadata": {},
   "source": [
    "## 2.6 Write a program that repeatedly prompts the user to enter a capital for a state. Upon receiving the user input, the program reports whether the answer is correct. Assume that 50 states and their capitals are stored in pairs in a dictionary so that the questions are randomly displayed. The program prompts the user to answer all the states’ capitals and displays the total correct count. The user’s answer is not case sensitive."
   ]
  },
  {
   "cell_type": "code",
   "execution_count": null,
   "metadata": {},
   "outputs": [],
   "source": [
    "import json\n",
    "import random\n",
    "with open(\"/content/country-by-capital-city.json\",\"r\") as f:\n",
    "    cc = f.read()\n",
    "\n",
    "ccd = json.loads(cc)\n",
    "ccd2 = {d['country']:d['city'] for d in ccd}\n",
    "ccd_len = len(ccd2)\n",
    "\n",
    "cor = 0\n",
    "for _ in range(50):\n",
    "    n = random.randint(0, ccd_len-1)\n",
    "    ctrs = list(ccd2.keys())\n",
    "    ctr = ctrs[n]\n",
    "    print(ctr)\n",
    "    ans = input(\"What is the capital of {}? \".format(ctr))\n",
    "    cap = ccd2[ctr]\n",
    "    if ans.lower()==cap.lower():\n",
    "        print(\"You answer is correct.\")\n",
    "        cor = cor + 1\n",
    "    else:\n",
    "        print(\"The correct answer should be {}.\".format(ccd2[ctr]))"
   ]
  }
 ],
 "metadata": {
  "kernelspec": {
   "display_name": "Python 3",
   "language": "python",
   "name": "python3"
  },
  "language_info": {
   "codemirror_mode": {
    "name": "ipython",
    "version": 3
   },
   "file_extension": ".py",
   "mimetype": "text/x-python",
   "name": "python",
   "nbconvert_exporter": "python",
   "pygments_lexer": "ipython3",
   "version": "3.7.4"
  }
 },
 "nbformat": 4,
 "nbformat_minor": 2
}
