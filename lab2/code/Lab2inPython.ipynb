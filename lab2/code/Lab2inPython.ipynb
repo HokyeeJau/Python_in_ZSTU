{
  "nbformat": 4,
  "nbformat_minor": 0,
  "metadata": {
    "colab": {
      "name": "Lab2inPython.ipynb",
      "provenance": [],
      "collapsed_sections": [],
      "toc_visible": true
    },
    "kernelspec": {
      "name": "python3",
      "display_name": "Python 3"
    },
    "accelerator": "GPU"
  },
  "cells": [
    {
      "cell_type": "markdown",
      "metadata": {
        "id": "RyTZx8YbCK14"
      },
      "source": [
        "# Lab 2"
      ]
    },
    {
      "cell_type": "markdown",
      "metadata": {
        "id": "rUBIc9i0B1KN"
      },
      "source": [
        "## 2.1\t\n",
        "Write a program to get input from the keyboard, calculate the Mean, Standard Deviation and Median by using list to save the data."
      ]
    },
    {
      "cell_type": "code",
      "metadata": {
        "id": "jCMczDwi4MQv",
        "outputId": "3f7c1921-4627-4220-86b3-3b092ca31cdb",
        "colab": {
          "base_uri": "https://localhost:8080/",
          "height": 187
        }
      },
      "source": [
        "import numpy as np \n",
        "\n",
        "# import numpy as np\n",
        "\n",
        "def check_num(n):\n",
        "    try:\n",
        "        float(n)\n",
        "        return True\n",
        "    except:\n",
        "        return False \n",
        "\n",
        "if_number = True\n",
        "number_list = []\n",
        "\n",
        "print(\"Input starts...\")\n",
        "while if_number:\n",
        "    num = input(\"Number: \")\n",
        "    if_number = check_num(num)\n",
        "    if if_number:\n",
        "        number_list.append(float(num))\n",
        "\n",
        "number_arr = np.array(number_list)\n",
        "print(\"----------Analysis Report----------------\")\n",
        "print(\"Mean: \"+'%-10.5s' % str(np.mean(number_arr)))\n",
        "print(\"Std:  \"+'%-10.5s' % str(np.std(number_arr)))\n",
        "print(\"Std:  \"+'%-10s' % str(np.median(number_arr)))"
      ],
      "execution_count": 1,
      "outputs": [
        {
          "output_type": "stream",
          "text": [
            "Input starts...\n",
            "Number: 2.3424\n",
            "Number: 345.3\n",
            "Number: 3452.1\n",
            "Number: 365.2\n",
            "Number: f\n",
            "----------Analysis Report----------------\n",
            "Mean: 1041.     \n",
            "Std:  1399.     \n",
            "Std:  355.25    \n"
          ],
          "name": "stdout"
        }
      ]
    },
    {
      "cell_type": "markdown",
      "metadata": {
        "id": "rRD-C6S7B23A"
      },
      "source": [
        "## 2.2 \n",
        "Count the word frequency (top 10) by using set: Read from the file hamlet.txt and count the word frequency."
      ]
    },
    {
      "cell_type": "code",
      "metadata": {
        "id": "9zDh1OPo3vMU",
        "outputId": "adf48e69-3d4e-4d38-daf2-b845aa3d5cf9",
        "colab": {
          "base_uri": "https://localhost:8080/",
          "height": 289
        }
      },
      "source": [
        "# A package dealing with tokens mostly used in NLP\n",
        "!pip install nltk\n",
        "import nltk\n",
        "nltk.download('punkt')\n",
        "\n",
        "# Import text file\n",
        "file_ad = \"/content/hamlet.txt\"\n",
        "with open(file_ad, \"r+\") as f:\n",
        "    hamlet = f.readlines()  \n",
        "print(type(hamlet))\n",
        "\n",
        "# Tokenisation\n",
        "tokenized_corpus = []\n",
        "for sent in hamlet:\n",
        "    tokens = []\n",
        "    for token in sent.split(\" \"):\n",
        "        tokens.append(token.lower())\n",
        "    tokenized_corpus.append(tokens)\n",
        "\n",
        "# Generate vocabulary set && Record the appearance\n",
        "vocab_dict = {}\n",
        "for sent in tokenized_corpus:\n",
        "    for token in sent:\n",
        "        if token in vocab_dict:\n",
        "            vocab_dict[token] = vocab_dict[token] + 1\n",
        "        else:\n",
        "            vocab_dict[token] = 1\n",
        "vocab_set = vocab_dict.keys()\n",
        "\n",
        "sorted_vocab_dict = dict(sorted(vocab_dict.items(), key = lambda kv:(kv[1], kv[0]), reverse=True))\n",
        "i = 0\n",
        "for k,v in sorted_vocab_dict.items():\n",
        "  i = i + 1\n",
        "  if i == 11:\n",
        "    break\n",
        "  print(\"{}. {:<10}{:>5}\".format(i, k, v))\n"
      ],
      "execution_count": 2,
      "outputs": [
        {
          "output_type": "stream",
          "text": [
            "Requirement already satisfied: nltk in /usr/local/lib/python3.6/dist-packages (3.2.5)\n",
            "Requirement already satisfied: six in /usr/local/lib/python3.6/dist-packages (from nltk) (1.15.0)\n",
            "[nltk_data] Downloading package punkt to /root/nltk_data...\n",
            "[nltk_data]   Unzipping tokenizers/punkt.zip.\n",
            "<class 'list'>\n",
            "1. the        1100\n",
            "2. and         923\n",
            "3. to          712\n",
            "4. of          642\n",
            "5. my          507\n",
            "6. a           507\n",
            "7. i           500\n",
            "8. in          420\n",
            "9. you         395\n",
            "10. hamlet\n",
            "     371\n"
          ],
          "name": "stdout"
        }
      ]
    },
    {
      "cell_type": "markdown",
      "metadata": {
        "id": "_vlXMV5AB5mR"
      },
      "source": [
        "## 2.3 \n",
        "Random password generation by using list: generate ten passwords randomly illustrated as follows that comprised of eight characters, which can only be 26 letters in lower case or 10 digits from 0 to 9."
      ]
    },
    {
      "cell_type": "code",
      "metadata": {
        "id": "dYeOm1jS3phN",
        "outputId": "836f6bef-54f2-4c5b-ba21-b4177c633498",
        "colab": {
          "base_uri": "https://localhost:8080/",
          "height": 187
        }
      },
      "source": [
        "import random\n",
        "import string\n",
        "\n",
        "\n",
        "randint = lambda x: random.randint(0, x)\n",
        "alphabet = list(string.ascii_letters) \n",
        "number = list(range(0, 10))\n",
        "\n",
        "def generate_random_pwd():\n",
        "    random.shuffle(alphabet)\n",
        "    random.shuffle(number)\n",
        "    \n",
        "    password = [0] * 10\n",
        "    for i in range(0, 10):\n",
        "        n = randint(len(alphabet)-1)\n",
        "        password[i] = alphabet[n]\n",
        "\n",
        "    password[randint(9)] = str(number[randint(9)])\n",
        "    password[randint(9)] = str(number[randint(9)])\n",
        "    return \"\".join(password)\n",
        "\n",
        "for i in range(1, 11):\n",
        "    print(\"Password \"+str(i)+\" :\"+generate_random_pwd())"
      ],
      "execution_count": 3,
      "outputs": [
        {
          "output_type": "stream",
          "text": [
            "Password 1 :ypZ6xoTd8I\n",
            "Password 2 :a0XW8sYQfH\n",
            "Password 3 :z0H2yEFBTH\n",
            "Password 4 :JpKGYQV9A9\n",
            "Password 5 :rgtujY1E4b\n",
            "Password 6 :IwROJuY4nH\n",
            "Password 7 :9xykLm2eUw\n",
            "Password 8 :MKc6fBf9yL\n",
            "Password 9 :pH4ZJdDWP7\n",
            "Password 10 :T2TqCXqato\n"
          ],
          "name": "stdout"
        }
      ]
    },
    {
      "cell_type": "markdown",
      "metadata": {
        "id": "mtBhQYy1CD1c"
      },
      "source": [
        "## 2.4 \n",
        "To determin the duplicate element by using list and set separately and analyize which one is better."
      ]
    },
    {
      "cell_type": "code",
      "metadata": {
        "id": "pJbjtaCE_QZD",
        "outputId": "f4c9df52-1d23-4872-c680-cf1e0cee0a58",
        "colab": {
          "base_uri": "https://localhost:8080/",
          "height": 85
        }
      },
      "source": [
        "import time\n",
        "\n",
        "list_start =time.clock()\n",
        "arr = [1,2,3,4,5,6,7]\n",
        "if 1 in arr:\n",
        "  print(\"Yes\")\n",
        "else:\n",
        "  print(\"No\")\n",
        "list_end = time.clock()\n",
        "print('List running time: %s Seconds'%(list_end-list_start))\n",
        "\n",
        "set_start =time.clock()\n",
        "s = set([1,2,3,4,5,6,7])\n",
        "if 1 in s:\n",
        "  print(\"Yes\")\n",
        "else:\n",
        "  print(\"No\")\n",
        "set_end = time.clock()\n",
        "print('Set running time: %s Seconds'%(set_end-set_start))"
      ],
      "execution_count": 4,
      "outputs": [
        {
          "output_type": "stream",
          "text": [
            "Yes\n",
            "List running time: 0.00015499999999990521 Seconds\n",
            "Yes\n",
            "Set running time: 0.00010999999999983245 Seconds\n"
          ],
          "name": "stdout"
        }
      ]
    },
    {
      "cell_type": "markdown",
      "metadata": {
        "id": "qZKKaWPcB_qm"
      },
      "source": [
        "## 2.5 \n",
        "By importing jieba library to realize the Chinese word frequency counting which read from the 三国演义.txt."
      ]
    },
    {
      "cell_type": "code",
      "metadata": {
        "id": "BWr0Cl5qlBaM",
        "outputId": "96bc46ab-5ad2-47f7-afd8-5b4a3da64b8f",
        "colab": {
          "base_uri": "https://localhost:8080/",
          "height": 34
        }
      },
      "source": [
        "!pip install jieba"
      ],
      "execution_count": 5,
      "outputs": [
        {
          "output_type": "stream",
          "text": [
            "Requirement already satisfied: jieba in /usr/local/lib/python3.6/dist-packages (0.42.1)\n"
          ],
          "name": "stdout"
        }
      ]
    },
    {
      "cell_type": "code",
      "metadata": {
        "id": "FAbwZdmIyDXj",
        "outputId": "742d072d-8595-410d-a18b-0934d2edd19b",
        "colab": {
          "base_uri": "https://localhost:8080/",
          "height": 425
        }
      },
      "source": [
        "# !pip install jieba\n",
        "import jieba\n",
        "import jieba.analyse\n",
        "import re\n",
        "from collections import Counter\n",
        "\n",
        "file = '/content/三国演义.txt'\n",
        "txt = open(file, 'r', encoding='utf-8').read()\n",
        "txt = re.sub(r'\\s+', r' ', txt)\n",
        "txt = re.sub(r'\\.+', r' ', txt)\n",
        "tags = jieba.analyse.extract_tags(txt, topK=100)\n",
        "words = jieba.cut(txt)\n",
        "counter = Counter()\n",
        "for word in words: \n",
        "  if word in tags:\n",
        "    counter[word] += 1\n",
        "result = counter.most_common()\n",
        "\n",
        "for i in range(1, 21):\n",
        "  key, value = result[i]\n",
        "  print('{:<3}{:<6}{:>5}'.format(i, key, value))"
      ],
      "execution_count": 6,
      "outputs": [
        {
          "output_type": "stream",
          "text": [
            "Building prefix dict from the default dictionary ...\n",
            "Dumping model to file cache /tmp/jieba.cache\n",
            "Loading model cost 0.719 seconds.\n",
            "Prefix dict has been built successfully.\n"
          ],
          "name": "stderr"
        },
        {
          "output_type": "stream",
          "text": [
            "1  孔明      836\n",
            "2  将军      772\n",
            "3  却说      656\n",
            "4  玄德      585\n",
            "5  关公      510\n",
            "6  丞相      491\n",
            "7  二人      469\n",
            "8  不可      440\n",
            "9  荆州      425\n",
            "10 玄德曰     390\n",
            "11 孔明曰     390\n",
            "12 不能      384\n",
            "13 如此      378\n",
            "14 张飞      358\n",
            "15 商议      344\n",
            "16 如何      338\n",
            "17 主公      331\n",
            "18 军士      317\n",
            "19 吕布      300\n",
            "20 左右      294\n"
          ],
          "name": "stdout"
        }
      ]
    },
    {
      "cell_type": "markdown",
      "metadata": {
        "id": "0snPriEoCG_z"
      },
      "source": [
        "## 2.6 \n",
        "Write a program that repeatedly prompts the user to enter a capital for a state. Upon receiving the user input, the program reports whether the answer is correct. Assume that 50 states and their capitals are stored in pairs in a dictionary so that the questions are randomly displayed. The program prompts the user to answer all the states’ capitals and displays the total correct count. The user’s answer is not case sensitive."
      ]
    },
    {
      "cell_type": "code",
      "metadata": {
        "id": "_Iv9_2-Uznex",
        "outputId": "3c547c36-f508-4fc5-a409-27fefc2e34f1",
        "colab": {
          "base_uri": "https://localhost:8080/",
          "height": 544
        }
      },
      "source": [
        "import json\n",
        "import random\n",
        "with open(\"/content/country-by-capital-city.json\",\"r\") as f:\n",
        "  cc = f.read()\n",
        "\n",
        "ccd = json.loads(cc)\n",
        "ccd2 = {d['country']:d['city'] for d in ccd}\n",
        "ccd_len = len(ccd2)\n",
        "\n",
        "cor = 0\n",
        "for _ in range(10):\n",
        "  n = random.randint(0, ccd_len-1)\n",
        "  ctrs = list(ccd2.keys())\n",
        "  ctr = ctrs[n]\n",
        "  print(ctr)\n",
        "  ans = input(\"What is the capital of {}? \".format(ctr))\n",
        "  cap = ccd2[ctr]\n",
        "  if ans.lower() == cap.lower():\n",
        "    print(\"You answer is correct.\")\n",
        "    cor = cor + 1\n",
        "  else:\n",
        "    print(\"The correct answer should be {}.\".format(ccd2[ctr]))\n",
        "print(\"The correct count is \"+str(cor))"
      ],
      "execution_count": 9,
      "outputs": [
        {
          "output_type": "stream",
          "text": [
            "Montserrat\n",
            "What is the capital of Montserrat? f\n",
            "The correct answer should be Plymouth.\n",
            "Greenland\n",
            "What is the capital of Greenland? \n",
            "The correct answer should be Nuuk.\n",
            "Colombia\n",
            "What is the capital of Colombia? \n",
            "The correct answer should be Santaf.\n",
            "Faroe Islands\n",
            "What is the capital of Faroe Islands? \n",
            "The correct answer should be Torshavn.\n",
            "Liechtenstein\n",
            "What is the capital of Liechtenstein? \n",
            "The correct answer should be Vaduz.\n",
            "Guinea-Bissau\n",
            "What is the capital of Guinea-Bissau? \n",
            "The correct answer should be Bissau.\n",
            "Guam\n",
            "What is the capital of Guam? \n",
            "What is the capital of Vanuatu? \n",
            "The correct answer should be Aga.\n",
            "Vanuatu\n",
            "The correct answer should be Port-Vila.\n",
            "Moldova\n",
            "What is the capital of Moldova? \n",
            "The correct answer should be Chisinau.\n",
            "Kuwait\n",
            "What is the capital of Kuwait? \n",
            "The correct answer should be Kuwait.\n",
            "The correct count is 0\n"
          ],
          "name": "stdout"
        }
      ]
    },
    {
      "cell_type": "code",
      "metadata": {
        "id": "x8U1LvtkBsMt"
      },
      "source": [
        ""
      ],
      "execution_count": null,
      "outputs": []
    }
  ]
}